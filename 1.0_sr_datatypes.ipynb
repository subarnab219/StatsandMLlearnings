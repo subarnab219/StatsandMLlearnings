{
 "cells": [
  {
   "cell_type": "markdown",
   "metadata": {},
   "source": [
    "Examples of types of data"
   ]
  },
  {
   "cell_type": "code",
   "execution_count": 1,
   "metadata": {},
   "outputs": [],
   "source": [
    "## create variables of different types (classes)\n",
    "\n",
    "# data numerical (here as a list)\n",
    "numdata = [ 1, 7, 17, 1717 ]\n",
    "\n",
    "# character / string\n",
    "chardata = 'xyz'\n",
    "\n",
    "# double-quotes also fine\n",
    "strdata = \"x\"\n",
    "\n",
    "# boolean (aka logical)\n",
    "logitdata = True # notice capitalization!\n",
    "\n",
    "# a list can be used like a MATLAB cell\n",
    "listdata = [ [3, 4, 34] , 'hello' , 4 ]\n",
    "\n",
    "# dict (kindof similar to MATLAB structure)\n",
    "dictdata = dict()\n",
    "dictdata['name'] = 'Mike'\n",
    "dictdata['age'] = 25\n",
    "dictdata['occupation'] = 'Nerdoscientist'"
   ]
  },
  {
   "cell_type": "code",
   "execution_count": 2,
   "metadata": {},
   "outputs": [
    {
     "name": "stdout",
     "output_type": "stream",
     "text": [
      "Variable    Type    Data/Info\n",
      "-----------------------------\n",
      "chardata    str     xyz\n",
      "dictdata    dict    n=3\n",
      "listdata    list    n=3\n",
      "logitdata   bool    True\n",
      "numdata     list    n=4\n",
      "strdata     str     x\n"
     ]
    }
   ],
   "source": [
    "# let's see what the workspace looks like\n",
    "%whos"
   ]
  },
  {
   "cell_type": "code",
   "execution_count": 3,
   "metadata": {},
   "outputs": [
    {
     "data": {
      "text/plain": [
       "{'name': 'Mike', 'age': 25, 'occupation': 'Nerdoscientist'}"
      ]
     },
     "execution_count": 3,
     "metadata": {},
     "output_type": "execute_result"
    }
   ],
   "source": []
  },
  {
   "cell_type": "code",
   "execution_count": null,
   "metadata": {},
   "outputs": [],
   "source": []
  }
 ],
 "metadata": {
  "kernelspec": {
   "display_name": "Python 3",
   "language": "python",
   "name": "python3"
  },
  "language_info": {
   "codemirror_mode": {
    "name": "ipython",
    "version": 3
   },
   "file_extension": ".py",
   "mimetype": "text/x-python",
   "name": "python",
   "nbconvert_exporter": "python",
   "pygments_lexer": "ipython3",
   "version": "3.7.6"
  }
 },
 "nbformat": 4,
 "nbformat_minor": 4
}
